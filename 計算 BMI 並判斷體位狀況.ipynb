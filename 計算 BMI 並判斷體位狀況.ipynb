{
 "cells": [
  {
   "cell_type": "markdown",
   "metadata": {},
   "source": [
    "## 【練習】\n",
    "\n",
    "寫一個計算BMI並判斷體位狀況的程式\n",
    "\n",
    "BMI 定義如下：\n",
    "$$BMI=\\frac{體重(kg)}{身高(m)^2}$$\n",
    "\n",
    "|BMI大小|意義|\n",
    "|---|---|\n",
    "|BMI<18.5|體重過輕|\n",
    "|18.5<=BMI<24|健康體位|\n",
    "|24<=BMI|體重過重|"
   ]
  },
  {
   "cell_type": "code",
   "execution_count": null,
   "metadata": {},
   "outputs": [],
   "source": []
  }
 ],
 "metadata": {
  "kernelspec": {
   "display_name": "Python 3",
   "language": "python",
   "name": "python3"
  },
  "language_info": {
   "codemirror_mode": {
    "name": "ipython",
    "version": 3
   },
   "file_extension": ".py",
   "mimetype": "text/x-python",
   "name": "python",
   "nbconvert_exporter": "python",
   "pygments_lexer": "ipython3",
   "version": "3.7.1"
  }
 },
 "nbformat": 4,
 "nbformat_minor": 2
}
